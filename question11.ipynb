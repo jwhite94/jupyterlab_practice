{
 "cells": [
  {
   "cell_type": "markdown",
   "id": "d3b4c586-c0da-47e7-9cb6-208cb13d8deb",
   "metadata": {},
   "source": [
    "# Justin White\n",
    "Notebook for assignment 7."
   ]
  },
  {
   "cell_type": "code",
   "execution_count": 7,
   "id": "360b3a2d-990e-454e-aead-69776615cf66",
   "metadata": {},
   "outputs": [
    {
     "name": "stdout",
     "output_type": "stream",
     "text": [
      "5.0\n"
     ]
    }
   ],
   "source": [
    "def compute_mean(values):\n",
    "    if not values:  # Check if the list is empty\n",
    "        print(\"The list is empty. Cannot compute the mean.\")\n",
    "        return None\n",
    "    mean_value = sum(values) / len(values)  # Calculate the mean\n",
    "    print(mean_value)\n",
    "\n",
    "compute_mean([2, 4, 6, 8])"
   ]
  },
  {
   "cell_type": "markdown",
   "id": "44d2e3bc-5af4-4a84-be88-8c5f9a21d24e",
   "metadata": {},
   "source": [
    "The `compute_mean` function is designed to calculate the mean (average) of a list of numerical values. It takes a single argument, `values`, which is expected to be a list of numbers. The function computes the mean by dividing the sum of all numbers in the list by the number of elements in the list.\n",
    "\n",
    "### Mathematical Representation of the Mean\n",
    "\n",
    "   $$\n",
    "   \\overline{x} = \\frac{x_1 + x_2 + \\ldots + x_n}{n} = \\frac{1}{n} \\left( \\sum_{i=1}^{n} x_i \\right)\n",
    "   $$\n"
   ]
  }
 ],
 "metadata": {
  "kernelspec": {
   "display_name": "Python 3 (ipykernel)",
   "language": "python",
   "name": "python3"
  },
  "language_info": {
   "codemirror_mode": {
    "name": "ipython",
    "version": 3
   },
   "file_extension": ".py",
   "mimetype": "text/x-python",
   "name": "python",
   "nbconvert_exporter": "python",
   "pygments_lexer": "ipython3",
   "version": "3.12.2"
  }
 },
 "nbformat": 4,
 "nbformat_minor": 5
}
